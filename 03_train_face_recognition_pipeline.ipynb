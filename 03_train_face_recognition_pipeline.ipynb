{
 "cells": [
  {
   "cell_type": "code",
   "execution_count": null,
   "metadata": {},
   "outputs": [],
   "source": [
    "from tensorflow.keras import Sequential, layers, optimizers\n",
    "from tensorflow.keras.preprocessing import image_dataset_from_directory\n",
    "from tensorflow.keras.layers.experimental import preprocessing\n",
    "from tensorflow.distribute import MirroredStrategy, ReductionToOneDevice, HierarchicalCopyAllReduce\n",
    "from tensorflow import math\n",
    "import tensorflow_addons as tfa"
   ]
  },
  {
   "cell_type": "code",
   "execution_count": null,
   "metadata": {},
   "outputs": [],
   "source": [
    "data_dir = \"/home/jovyan/data-vol-1/face_chip_clusters\"\n",
    "batch_size=64\n",
    "input_shape = (224, 224, 3)\n",
    "img_shape = input_shape[:2]\n",
    "print(img_shape)"
   ]
  },
  {
   "cell_type": "code",
   "execution_count": null,
   "metadata": {},
   "outputs": [],
   "source": [
    "train_ds = image_dataset_from_directory(\n",
    "    data_dir,\n",
    "    validation_split=0.2,\n",
    "    subset=\"training\",\n",
    "    seed=123,\n",
    "    image_size=img_shape,\n",
    "    batch_size=batch_size)\n",
    "\n",
    "eval_ds = image_dataset_from_directory(\n",
    "    data_dir,\n",
    "    validation_split=0.2,\n",
    "    subset=\"validation\",\n",
    "    seed=123,\n",
    "    shuffle=False,\n",
    "    image_size=img_shape,\n",
    "    batch_size=batch_size)"
   ]
  },
  {
   "cell_type": "code",
   "execution_count": null,
   "metadata": {},
   "outputs": [],
   "source": [
    "strategy = MirroredStrategy(cross_device_ops=HierarchicalCopyAllReduce())\n",
    "print(\"Number of devices: {}\".format(strategy.num_replicas_in_sync))\n",
    "\n",
    "with strategy.scope():\n",
    "    model = Sequential(\n",
    "        [\n",
    "            layers.Conv2D(64, 3, padding='same', activation='relu', input_shape=input_shape),\n",
    "            layers.MaxPooling2D(pool_size=2),\n",
    "            layers.Dropout(0.3),\n",
    "            layers.Conv2D(filters=64, kernel_size=2, padding='same', activation='relu'),\n",
    "            layers.MaxPooling2D(pool_size=2),\n",
    "            layers.Dropout(0.3),\n",
    "            layers.Conv2D(filters=64, kernel_size=2, padding='same', activation='relu'),\n",
    "            layers.MaxPooling2D(pool_size=2),\n",
    "            layers.Dropout(0.3),\n",
    "            layers.Flatten(),\n",
    "            layers.Dense(256, activation=None),\n",
    "            layers.Lambda(\n",
    "                lambda x: math.l2_normalize(x, axis=1)\n",
    "            ),\n",
    "        ]\n",
    "    )\n",
    "    model.compile(\n",
    "        optimizer=optimizers.Adam(0.001), loss=tfa.losses.TripletSemiHardLoss()\n",
    "    )\n",
    "model.summary()"
   ]
  },
  {
   "cell_type": "code",
   "execution_count": null,
   "metadata": {},
   "outputs": [],
   "source": [
    "history = model.fit(\n",
    "    train_ds,\n",
    "    epochs=15)"
   ]
  },
  {
   "cell_type": "code",
   "execution_count": null,
   "metadata": {},
   "outputs": [],
   "source": [
    "results = model.predict(eval_ds)\n",
    "model.save(\"/home/jovyan/data-vol-1/brandon_face_model\")"
   ]
  },
  {
   "cell_type": "code",
   "execution_count": null,
   "metadata": {},
   "outputs": [],
   "source": [
    "import numpy as np\n",
    "import io\n",
    "import tensorflow_datasets as tfds"
   ]
  },
  {
   "cell_type": "code",
   "execution_count": null,
   "metadata": {},
   "outputs": [],
   "source": [
    "np.savetxt(\"face_model/vecs.tsv\", results, delimiter='\\t')\n",
    "out_m = io.open('face_model/meta.tsv', 'w', encoding='utf-8')\n",
    "for img, labels in tfds.as_numpy(eval_ds):\n",
    "    [out_m.write(str(x) + \"\\n\") for x in labels]\n",
    "out_m.close()"
   ]
  }
 ],
 "metadata": {
  "kernelspec": {
   "display_name": "Python 3",
   "language": "python",
   "name": "python3"
  },
  "language_info": {
   "codemirror_mode": {
    "name": "ipython",
    "version": 3
   },
   "file_extension": ".py",
   "mimetype": "text/x-python",
   "name": "python",
   "nbconvert_exporter": "python",
   "pygments_lexer": "ipython3",
   "version": "3.8.5"
  }
 },
 "nbformat": 4,
 "nbformat_minor": 4
}
