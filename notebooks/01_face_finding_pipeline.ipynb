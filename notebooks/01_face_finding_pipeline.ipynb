{
 "cells": [
  {
   "cell_type": "markdown",
   "metadata": {},
   "source": [
    "## Face Finding\n",
    "\n",
    "Traverse through a folder hierarchy for images and seek out faces. Append faces to a JSON manifest which will save the coordinates of the face rectangle for use later in clustering or other face-needing solutions without saving files redundantly. Could be a good start for a local photo database metadata.\n",
    "\n",
    "The models referenced will benefit from Nvidia GPU acceleration, this this docker file has been built to support CUDA as well as an optimized version of linear algebra via libopenblas-dev and liblapack-dev. These additions to the base docker image will speed up DLIB, per DLIB's documentation.\n",
    "\n",
    "Various well-trained models are available from DLIB and are used in the wild for many, many face-centric tasks. You can download trained facial shape predictor and recognition model from:\n",
    "\n",
    "    http://dlib.net/files/dlib_face_recognition_resnet_model_v1.dat.bz2\n",
    "    \n",
    "    http://dlib.net/files/shape_predictor_5_face_landmarks.dat.bz2\n",
    "    \n",
    "    http://dlib.net/files/shape_predictor_68_face_landmarks.dat.bz2\n",
    "    \n",
    "    http://dlib.net/files/mmod_human_face_detector.dat.bz2\n",
    "    \n",
    "If you do not have a GPUs, there is also a Histogram of Gradients (HOG) face recognition method which provides good results and lower resource consumption. If the CNN model isn't found, the server defaults to this. \n",
    "___"
   ]
  },
  {
   "cell_type": "code",
   "execution_count": 1,
   "metadata": {},
   "outputs": [],
   "source": [
    "from utils.face_utils import FaceDetector\n",
    "import os"
   ]
  },
  {
   "cell_type": "code",
   "execution_count": 2,
   "metadata": {},
   "outputs": [],
   "source": [
    "root_dir = \"/home/jovyan/data-vol-1/\"\n",
    "images_root_dir = os.path.join(root_dir, \"Pictures\")\n",
    "face_det_model_path = os.path.join(root_dir, \"dlib_models/mmod_human_face_detector.dat\")\n",
    "predictor_path = os.path.join(root_dir, \"dlib_models/shape_predictor_68_face_landmarks.dat\")\n",
    "face_rec_model_path = os.path.join(root_dir, \"dlib_models/dlib_face_recognition_resnet_model_v1.dat\")"
   ]
  },
  {
   "cell_type": "code",
   "execution_count": 3,
   "metadata": {},
   "outputs": [
    {
     "name": "stderr",
     "output_type": "stream",
     "text": [
      "INFO:root:dlib BLAS Optimization: True\n",
      "INFO:root:dlib LAPACK Optimization: True\n",
      "INFO:root:dlib CUDA Optimization: True\n",
      "INFO:root:dlib CUDA Devices: 2\n",
      "INFO:root:Using Convolutional Neural Network method.\n"
     ]
    }
   ],
   "source": [
    "fd = FaceDetector(\n",
    "    face_det_model_path=face_det_model_path,\n",
    "    predictor_path=predictor_path,\n",
    "    face_rec_model_path=face_rec_model_path,\n",
    "    images_root_dir=images_root_dir,\n",
    ")"
   ]
  },
  {
   "cell_type": "code",
   "execution_count": 4,
   "metadata": {},
   "outputs": [
    {
     "name": "stderr",
     "output_type": "stream",
     "text": [
      "INFO:root:Found 17,836 images\n"
     ]
    }
   ],
   "source": [
    "fd.collect_image_file_paths()"
   ]
  },
  {
   "cell_type": "code",
   "execution_count": null,
   "metadata": {},
   "outputs": [],
   "source": [
    "fd.load_images_batch()"
   ]
  }
 ],
 "metadata": {
  "kernelspec": {
   "display_name": "Python 3",
   "language": "python",
   "name": "python3"
  },
  "language_info": {
   "codemirror_mode": {
    "name": "ipython",
    "version": 3
   },
   "file_extension": ".py",
   "mimetype": "text/x-python",
   "name": "python",
   "nbconvert_exporter": "python",
   "pygments_lexer": "ipython3",
   "version": "3.8.5"
  }
 },
 "nbformat": 4,
 "nbformat_minor": 4
}
