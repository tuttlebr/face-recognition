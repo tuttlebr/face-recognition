{
 "cells": [
  {
   "cell_type": "markdown",
   "metadata": {},
   "source": [
    "## Chinese Whisper Clustering\n",
    "\n",
    "1. All nodes are assigned to a distinct class (The number of initial classes equals the number of nodes).\n",
    "2. All of the network nodes are selected one by one in a random order. Every node moves to the class which the given node connects with the most links. In the case of equality the cluster is randomly chosen from the equally linked classes.\n",
    "3. Repeat step three until a predetermined number of iteration or until the process converges. In the end the emerging classes represent the clusters of the network."
   ]
  },
  {
   "cell_type": "code",
   "execution_count": null,
   "metadata": {},
   "outputs": [],
   "source": [
    "from utils.face_utils import FaceDetector\n",
    "import os"
   ]
  },
  {
   "cell_type": "code",
   "execution_count": null,
   "metadata": {},
   "outputs": [],
   "source": [
    "root_dir = \"/home/jovyan/data-vol-1/\"\n",
    "face_det_model_path = os.path.join(root_dir, \"dlib_models/mmod_human_face_detector.dat\")\n",
    "images_root_dir = os.path.join(root_dir, \"Pictures\")\n",
    "predictor_path = os.path.join(root_dir, \"dlib_models/shape_predictor_68_face_landmarks.dat\")\n",
    "face_rec_model_path = os.path.join(root_dir, \"dlib_models/dlib_face_recognition_resnet_model_v1.dat\")\n",
    "\n",
    "\n",
    "fd = FaceDetector(\n",
    "    face_det_model_path=face_det_model_path,\n",
    "    predictor_path=predictor_path,\n",
    "    face_rec_model_path=face_rec_model_path,\n",
    "    images_root_dir=images_root_dir,\n",
    ")"
   ]
  },
  {
   "cell_type": "code",
   "execution_count": null,
   "metadata": {},
   "outputs": [],
   "source": [
    "fd.read_manifest('face_db_2021_03_06_19_50_54.json')"
   ]
  },
  {
   "cell_type": "code",
   "execution_count": null,
   "metadata": {},
   "outputs": [],
   "source": [
    "fd.describe_from_manifest()"
   ]
  },
  {
   "cell_type": "code",
   "execution_count": null,
   "metadata": {},
   "outputs": [],
   "source": [
    "fd.cluster_faces()"
   ]
  },
  {
   "cell_type": "code",
   "execution_count": null,
   "metadata": {},
   "outputs": [],
   "source": [
    "fd.save_cluster_chips()"
   ]
  }
 ],
 "metadata": {
  "kernelspec": {
   "display_name": "Python 3",
   "language": "python",
   "name": "python3"
  },
  "language_info": {
   "codemirror_mode": {
    "name": "ipython",
    "version": 3
   },
   "file_extension": ".py",
   "mimetype": "text/x-python",
   "name": "python",
   "nbconvert_exporter": "python",
   "pygments_lexer": "ipython3",
   "version": "3.8.5"
  }
 },
 "nbformat": 4,
 "nbformat_minor": 4
}
